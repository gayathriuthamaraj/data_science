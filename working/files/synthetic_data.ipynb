{
 "cells": [
  {
   "cell_type": "code",
   "execution_count": 1,
   "id": "406c077c",
   "metadata": {},
   "outputs": [],
   "source": [
    "import pandas as pd\n",
    "import numpy as np"
   ]
  },
  {
   "cell_type": "code",
   "execution_count": 2,
   "id": "802b9fcb",
   "metadata": {},
   "outputs": [
    {
     "name": "stdout",
     "output_type": "stream",
     "text": [
      "Updated dataset saved to: G:\\My Drive\\projects\\data_science\\working\\dataset\\student_profiles_updated.csv\n",
      "         Name  10th marks 12th course  12th marks grad course  \\\n",
      "0  AMIRSHAYAN        62.9         NaN         NaN         NaN   \n",
      "1     SOANJAN        93.4        Arts        85.0        BCom   \n",
      "2     VAISHMI        65.6        Arts        69.4       BTech   \n",
      "3    DEDEEPYA        76.2    Commerce        69.4         NaN   \n",
      "4      HAMESH        86.2     Science        89.7         NaN   \n",
      "\n",
      "              grad stream  grad marks                skills  \\\n",
      "0                     NaN         NaN                   NaN   \n",
      "1  Electrical Engineering        71.8  Excel, Communication   \n",
      "2  Mechanical Engineering        65.2                   NaN   \n",
      "3                     NaN         NaN                   NaN   \n",
      "4                     NaN         NaN                   NaN   \n",
      "\n",
      "           languages known             internships taken  \\\n",
      "0  Punjabi, English, Hindi                           NaN   \n",
      "1       Urdu, Hindi, Tamil                           NaN   \n",
      "2                      NaN                           NaN   \n",
      "3          Tamil, Gujarati                           NaN   \n",
      "4                      NaN  Finance Intern at Local Firm   \n",
      "\n",
      "                        additional certifications  \n",
      "0  Certificate in IFRS, Oracle Java Certification  \n",
      "1                                             NaN  \n",
      "2                                             NaN  \n",
      "3                                             NaN  \n",
      "4                                             NaN  \n"
     ]
    }
   ],
   "source": [
    "import random\n",
    "\n",
    "names_file = r\"G:\\My Drive\\projects\\data_science\\working\\dataset\\IndianNamesUnique.csv\"\n",
    "profiles_file = r\"G:\\My Drive\\projects\\data_science\\working\\dataset\\student_profiles_education_levels_50000.csv\"\n",
    "\n",
    "names_df = pd.read_csv(names_file)\n",
    "profiles_df = pd.read_csv(profiles_file)\n",
    "\n",
    "if len(names_df) < len(profiles_df):\n",
    "    raise ValueError(\"Not enough names in the names dataset to replace all profiles!\")\n",
    "\n",
    "unique_names = random.sample(list(names_df['Name']), len(profiles_df))\n",
    "\n",
    "profiles_df['Name'] = unique_names\n",
    "\n",
    "output_file = r\"G:\\My Drive\\projects\\data_science\\working\\dataset\\student_profiles_updated.csv\"\n",
    "profiles_df.to_csv(output_file, index=False)\n",
    "\n",
    "print(f\"Updated dataset saved to: {output_file}\")\n",
    "print(profiles_df.head())\n"
   ]
  },
  {
   "cell_type": "code",
   "execution_count": 3,
   "id": "2a55dd89",
   "metadata": {},
   "outputs": [
    {
     "name": "stdout",
     "output_type": "stream",
     "text": [
      "Updated dataset with DOB saved to: G:\\My Drive\\projects\\data_science\\working\\dataset\\student_profiles_updated.csv\n",
      "            Name         DOB\n",
      "0       SATYAPAL  2001-08-17\n",
      "1       ARDASHIR  2002-12-30\n",
      "2        DEEPANA  2004-06-28\n",
      "3     NARABOYANA  2004-03-07\n",
      "4        RAEMELA  2001-12-14\n",
      "5       SUGASANI  2002-06-22\n",
      "6     RISHIKESAN  2003-09-14\n",
      "7        HARDYAL  2004-02-06\n",
      "8     JANAANJALI  2002-05-05\n",
      "9  KIRANDEEPKAUR  2004-04-03\n"
     ]
    }
   ],
   "source": [
    "import pandas as pd\n",
    "import random\n",
    "from datetime import datetime, timedelta\n",
    "\n",
    "# File paths\n",
    "names_file = r\"G:\\My Drive\\projects\\data_science\\working\\dataset\\IndianNamesUnique.csv\"\n",
    "profiles_file = r\"G:\\My Drive\\projects\\data_science\\working\\dataset\\student_profiles_education_levels_50000.csv\"\n",
    "\n",
    "# Load datasets\n",
    "names_df = pd.read_csv(names_file)\n",
    "profiles_df = pd.read_csv(profiles_file)\n",
    "\n",
    "# Ensure enough names\n",
    "if len(names_df) < len(profiles_df):\n",
    "    raise ValueError(\"Not enough names in the names dataset to replace all profiles!\")\n",
    "\n",
    "# Random unique names\n",
    "unique_names = random.sample(list(names_df['Name']), len(profiles_df))\n",
    "\n",
    "# Replace names\n",
    "profiles_df['Name'] = unique_names\n",
    "\n",
    "# Function to generate DOB for age between 21 and 25\n",
    "def generate_random_dob(min_age=21, max_age=25):\n",
    "    today = datetime.today()\n",
    "    start_date = today.replace(year=today.year - max_age)\n",
    "    end_date = today.replace(year=today.year - min_age)\n",
    "    random_days = random.randint(0, (end_date - start_date).days)\n",
    "    return (start_date + timedelta(days=random_days)).strftime(\"%Y-%m-%d\")\n",
    "\n",
    "# Add DOB column\n",
    "profiles_df['DOB'] = [generate_random_dob() for _ in range(len(profiles_df))]\n",
    "\n",
    "# Save the updated dataset\n",
    "output_file = r\"G:\\My Drive\\projects\\data_science\\working\\dataset\\student_profiles_updated.csv\"\n",
    "profiles_df.to_csv(output_file, index=False)\n",
    "\n",
    "print(f\"Updated dataset with DOB saved to: {output_file}\")\n",
    "print(profiles_df[['Name', 'DOB']].head(10))\n"
   ]
  },
  {
   "cell_type": "code",
   "execution_count": null,
   "id": "a99a4f32",
   "metadata": {},
   "outputs": [],
   "source": []
  }
 ],
 "metadata": {
  "kernelspec": {
   "display_name": "base",
   "language": "python",
   "name": "python3"
  },
  "language_info": {
   "codemirror_mode": {
    "name": "ipython",
    "version": 3
   },
   "file_extension": ".py",
   "mimetype": "text/x-python",
   "name": "python",
   "nbconvert_exporter": "python",
   "pygments_lexer": "ipython3",
   "version": "3.12.3"
  }
 },
 "nbformat": 4,
 "nbformat_minor": 5
}
