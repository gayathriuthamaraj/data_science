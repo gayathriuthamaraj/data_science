{
 "cells": [
  {
   "cell_type": "code",
   "execution_count": 26,
   "id": "404547fd",
   "metadata": {},
   "outputs": [],
   "source": [
    "import pandas as pd"
   ]
  },
  {
   "cell_type": "code",
   "execution_count": 27,
   "id": "708145b4",
   "metadata": {},
   "outputs": [
    {
     "name": "stderr",
     "output_type": "stream",
     "text": [
      "<>:1: SyntaxWarning: invalid escape sequence '\\M'\n",
      "<>:1: SyntaxWarning: invalid escape sequence '\\M'\n",
      "C:\\Users\\gayat\\AppData\\Local\\Temp\\ipykernel_26028\\2871879265.py:1: SyntaxWarning: invalid escape sequence '\\M'\n",
      "  df = pd.read_csv(\"G:\\My Drive\\projects\\data_science\\working\\dataset\\AI_Resume_Screening.csv\")\n"
     ]
    }
   ],
   "source": [
    "df = pd.read_csv(\"G:\\My Drive\\projects\\data_science\\working\\dataset\\AI_Resume_Screening.csv\")"
   ]
  },
  {
   "cell_type": "code",
   "execution_count": 28,
   "id": "95d32b1e",
   "metadata": {},
   "outputs": [
    {
     "name": "stdout",
     "output_type": "stream",
     "text": [
      "Total unique skills: 14\n",
      "['C++', 'Cybersecurity', 'Deep Learning', 'Ethical Hacking', 'Java', 'Linux', 'Machine Learning', 'NLP', 'Networking', 'Python', 'Pytorch', 'React', 'SQL', 'TensorFlow']\n"
     ]
    }
   ],
   "source": [
    "all_skills = []\n",
    "for s in df[\"Skills\"].dropna():\n",
    "    skills = [skill.strip() for skill in s.split(\",\")]\n",
    "    all_skills.extend(skills)\n",
    "\n",
    "unique_skills = sorted(set(all_skills))\n",
    "\n",
    "print(f\"Total unique skills: {len(unique_skills)}\")\n",
    "print(unique_skills[:30]) "
   ]
  },
  {
   "cell_type": "code",
   "execution_count": 29,
   "id": "860e7818",
   "metadata": {},
   "outputs": [
    {
     "name": "stderr",
     "output_type": "stream",
     "text": [
      "<>:1: SyntaxWarning: invalid escape sequence '\\M'\n",
      "<>:1: SyntaxWarning: invalid escape sequence '\\M'\n",
      "C:\\Users\\gayat\\AppData\\Local\\Temp\\ipykernel_26028\\1136566128.py:1: SyntaxWarning: invalid escape sequence '\\M'\n",
      "  df_1 = pd.read_csv(\"G:\\My Drive\\projects\\data_science\\working\\dataset\\jobss.csv\")\n"
     ]
    }
   ],
   "source": [
    "df_1 = pd.read_csv(\"G:\\My Drive\\projects\\data_science\\working\\dataset\\jobss.csv\")"
   ]
  },
  {
   "cell_type": "code",
   "execution_count": 30,
   "id": "89a1be46",
   "metadata": {},
   "outputs": [
    {
     "name": "stdout",
     "output_type": "stream",
     "text": [
      "Total unique skills: 2161\n",
      "['.NET', '.NET development', '.Net', '.net', '.net developer', '11g', '3D', '3D Modeling', '3G', '3GPP', '4G', 'ADFS', 'AO engagement', 'AP', 'API', 'API Testing', 'ASM', 'ASP', 'ASP.Net MVC', 'AWS', 'Accent', 'Account Assistant', 'Account Management', 'Accounting', 'Accounting Entries', 'Accounts', 'Accounts Executive', 'Accounts receivable', 'Action plan', 'Active Directory']\n"
     ]
    }
   ],
   "source": [
    "for s in df_1[\"Key Skills\"].dropna():\n",
    "    skills = [skill.strip() for skill in s.split(\"|\")]\n",
    "    all_skills.extend(skills)\n",
    "\n",
    "unique_skills = sorted(set(all_skills))\n",
    "\n",
    "print(f\"Total unique skills: {len(unique_skills)}\")\n",
    "print(unique_skills[:30]) "
   ]
  },
  {
   "cell_type": "code",
   "execution_count": 14,
   "id": "90e40946",
   "metadata": {},
   "outputs": [],
   "source": [
    "df_2 = pd.read_csv(r\"G:\\My Drive\\projects\\data_science\\working\\dataset\\resume_dataset_1200.csv\")"
   ]
  },
  {
   "cell_type": "code",
   "execution_count": 31,
   "id": "002d42c4",
   "metadata": {},
   "outputs": [
    {
     "name": "stdout",
     "output_type": "stream",
     "text": [
      "Total unique skills: 2195\n",
      "['.NET', '.NET development', '.Net', '.net', '.net developer', '11g', '3D', '3D Modeling', '3G', '3GPP', '4G', 'ADFS', 'AO engagement', 'AP', 'API', 'API Testing', 'ASM', 'ASP', 'ASP.Net MVC', 'AWS', 'Accent', 'Account Assistant', 'Account Management', 'Accounting', 'Accounting Entries', 'Accounts', 'Accounts Executive', 'Accounts receivable', 'Action plan', 'Active Directory']\n"
     ]
    }
   ],
   "source": [
    "for s in df_2[\"Skills\"].dropna():\n",
    "    skills = [skill.strip() for skill in s.split(\",\")]\n",
    "    all_skills.extend(skills)\n",
    "\n",
    "unique_skills = sorted(set(all_skills))\n",
    "\n",
    "print(f\"Total unique skills: {len(unique_skills)}\")\n",
    "print(unique_skills[:30])"
   ]
  },
  {
   "cell_type": "code",
   "execution_count": 32,
   "id": "546ce4a2",
   "metadata": {},
   "outputs": [
    {
     "name": "stderr",
     "output_type": "stream",
     "text": [
      "<>:1: SyntaxWarning: invalid escape sequence '\\M'\n",
      "<>:1: SyntaxWarning: invalid escape sequence '\\M'\n",
      "C:\\Users\\gayat\\AppData\\Local\\Temp\\ipykernel_26028\\90045147.py:1: SyntaxWarning: invalid escape sequence '\\M'\n",
      "  df_3 = pd.read_csv(\"G:\\My Drive\\projects\\data_science\\working\\dataset\\stack_network_links.csv\")\n"
     ]
    }
   ],
   "source": [
    "df_3 = pd.read_csv(\"G:\\My Drive\\projects\\data_science\\working\\dataset\\stack_network_links.csv\")"
   ]
  },
  {
   "cell_type": "code",
   "execution_count": 33,
   "id": "3000e0ab",
   "metadata": {},
   "outputs": [
    {
     "name": "stdout",
     "output_type": "stream",
     "text": [
      "Total unique skills: 2265\n",
      "['.NET', '.NET development', '.Net', '.net', '.net developer', '11g', '3D', '3D Modeling', '3G', '3GPP', '4G', 'ADFS', 'AO engagement', 'AP', 'API', 'API Testing', 'ASM', 'ASP', 'ASP.Net MVC', 'AWS', 'Accent', 'Account Assistant', 'Account Management', 'Accounting', 'Accounting Entries', 'Accounts', 'Accounts Executive', 'Accounts receivable', 'Action plan', 'Active Directory']\n"
     ]
    }
   ],
   "source": [
    "for s in df_3[\"source\"].dropna():\n",
    "    skills = [skill.strip() for skill in s.split(\",\")]\n",
    "    all_skills.extend(skills)\n",
    "\n",
    "unique_skills = sorted(set(all_skills))\n",
    "\n",
    "print(f\"Total unique skills: {len(unique_skills)}\")\n",
    "print(unique_skills[:30])"
   ]
  },
  {
   "cell_type": "code",
   "execution_count": 34,
   "id": "3180699b",
   "metadata": {},
   "outputs": [],
   "source": [
    "skills = [x.lower() for x in unique_skills]\n",
    "skills = sorted(set(skills))"
   ]
  },
  {
   "cell_type": "code",
   "execution_count": 35,
   "id": "488c8d21",
   "metadata": {},
   "outputs": [
    {
     "name": "stdout",
     "output_type": "stream",
     "text": [
      "1865\n"
     ]
    }
   ],
   "source": [
    "print(len(skills))"
   ]
  },
  {
   "cell_type": "code",
   "execution_count": 36,
   "id": "37df5a54",
   "metadata": {},
   "outputs": [],
   "source": [
    "final_df = pd.DataFrame({\"skill\":skills})"
   ]
  },
  {
   "cell_type": "code",
   "execution_count": 37,
   "id": "b215c271",
   "metadata": {},
   "outputs": [
    {
     "name": "stderr",
     "output_type": "stream",
     "text": [
      "<>:1: SyntaxWarning: invalid escape sequence '\\M'\n",
      "<>:1: SyntaxWarning: invalid escape sequence '\\M'\n",
      "C:\\Users\\gayat\\AppData\\Local\\Temp\\ipykernel_26028\\68390848.py:1: SyntaxWarning: invalid escape sequence '\\M'\n",
      "  final_df.to_csv(\"G:\\My Drive\\projects\\data_science\\working\\dataset\\skills.csv\", index = False)\n"
     ]
    }
   ],
   "source": [
    "final_df.to_csv(\"G:\\My Drive\\projects\\data_science\\working\\dataset\\skills.csv\", index = False)"
   ]
  },
  {
   "cell_type": "code",
   "execution_count": null,
   "id": "a6bc43bb",
   "metadata": {},
   "outputs": [],
   "source": []
  }
 ],
 "metadata": {
  "kernelspec": {
   "display_name": "base",
   "language": "python",
   "name": "python3"
  },
  "language_info": {
   "codemirror_mode": {
    "name": "ipython",
    "version": 3
   },
   "file_extension": ".py",
   "mimetype": "text/x-python",
   "name": "python",
   "nbconvert_exporter": "python",
   "pygments_lexer": "ipython3",
   "version": "3.12.3"
  }
 },
 "nbformat": 4,
 "nbformat_minor": 5
}
