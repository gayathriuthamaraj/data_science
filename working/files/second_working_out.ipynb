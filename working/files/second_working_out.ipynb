{
 "cells": [
  {
   "cell_type": "code",
   "execution_count": 1,
   "id": "5ed9fedb",
   "metadata": {},
   "outputs": [],
   "source": [
    "import numpy as np\n",
    "import pandas as pd\n",
    "from sentence_transformers import SentenceTransformer, util"
   ]
  },
  {
   "cell_type": "code",
   "execution_count": 2,
   "id": "427a58fa",
   "metadata": {},
   "outputs": [
    {
     "name": "stderr",
     "output_type": "stream",
     "text": [
      "<>:1: SyntaxWarning: invalid escape sequence '\\M'\n",
      "<>:1: SyntaxWarning: invalid escape sequence '\\M'\n",
      "C:\\Users\\gayat\\AppData\\Local\\Temp\\ipykernel_25724\\1063429385.py:1: SyntaxWarning: invalid escape sequence '\\M'\n",
      "  df = pd.read_csv(\"G:\\My Drive\\projects\\data_science\\working\\dataset\\student_profiles_updated.csv\")\n"
     ]
    },
    {
     "data": {
      "text/html": [
       "<div>\n",
       "<style scoped>\n",
       "    .dataframe tbody tr th:only-of-type {\n",
       "        vertical-align: middle;\n",
       "    }\n",
       "\n",
       "    .dataframe tbody tr th {\n",
       "        vertical-align: top;\n",
       "    }\n",
       "\n",
       "    .dataframe thead th {\n",
       "        text-align: right;\n",
       "    }\n",
       "</style>\n",
       "<table border=\"1\" class=\"dataframe\">\n",
       "  <thead>\n",
       "    <tr style=\"text-align: right;\">\n",
       "      <th></th>\n",
       "      <th>Name</th>\n",
       "      <th>10th marks</th>\n",
       "      <th>12th course</th>\n",
       "      <th>12th marks</th>\n",
       "      <th>grad course</th>\n",
       "      <th>grad stream</th>\n",
       "      <th>grad marks</th>\n",
       "      <th>skills</th>\n",
       "      <th>languages known</th>\n",
       "      <th>internships taken</th>\n",
       "      <th>additional certifications</th>\n",
       "      <th>DOB</th>\n",
       "      <th>Category</th>\n",
       "    </tr>\n",
       "  </thead>\n",
       "  <tbody>\n",
       "    <tr>\n",
       "      <th>0</th>\n",
       "      <td>YOVITHA</td>\n",
       "      <td>62.9</td>\n",
       "      <td>NaN</td>\n",
       "      <td>NaN</td>\n",
       "      <td>NaN</td>\n",
       "      <td>NaN</td>\n",
       "      <td>NaN</td>\n",
       "      <td>NaN</td>\n",
       "      <td>Punjabi, English, Hindi</td>\n",
       "      <td>NaN</td>\n",
       "      <td>Certificate in IFRS, Oracle Java Certification</td>\n",
       "      <td>2001-05-21</td>\n",
       "      <td>MBC</td>\n",
       "    </tr>\n",
       "    <tr>\n",
       "      <th>1</th>\n",
       "      <td>SUKUNNAN</td>\n",
       "      <td>93.4</td>\n",
       "      <td>Arts</td>\n",
       "      <td>85.0</td>\n",
       "      <td>BCom</td>\n",
       "      <td>Electrical Engineering</td>\n",
       "      <td>71.8</td>\n",
       "      <td>Excel, Communication</td>\n",
       "      <td>Urdu, Hindi, Tamil</td>\n",
       "      <td>NaN</td>\n",
       "      <td>NaN</td>\n",
       "      <td>2004-08-18</td>\n",
       "      <td>BC</td>\n",
       "    </tr>\n",
       "    <tr>\n",
       "      <th>2</th>\n",
       "      <td>SHOORSEN</td>\n",
       "      <td>65.6</td>\n",
       "      <td>Arts</td>\n",
       "      <td>69.4</td>\n",
       "      <td>BTech</td>\n",
       "      <td>Mechanical Engineering</td>\n",
       "      <td>65.2</td>\n",
       "      <td>NaN</td>\n",
       "      <td>NaN</td>\n",
       "      <td>NaN</td>\n",
       "      <td>NaN</td>\n",
       "      <td>2003-06-30</td>\n",
       "      <td>BC</td>\n",
       "    </tr>\n",
       "    <tr>\n",
       "      <th>3</th>\n",
       "      <td>AADALALAGAN</td>\n",
       "      <td>76.2</td>\n",
       "      <td>Commerce</td>\n",
       "      <td>69.4</td>\n",
       "      <td>NaN</td>\n",
       "      <td>NaN</td>\n",
       "      <td>NaN</td>\n",
       "      <td>NaN</td>\n",
       "      <td>Tamil, Gujarati</td>\n",
       "      <td>NaN</td>\n",
       "      <td>NaN</td>\n",
       "      <td>2001-07-25</td>\n",
       "      <td>BC</td>\n",
       "    </tr>\n",
       "    <tr>\n",
       "      <th>4</th>\n",
       "      <td>SKANDAPRASAD</td>\n",
       "      <td>86.2</td>\n",
       "      <td>Science</td>\n",
       "      <td>89.7</td>\n",
       "      <td>NaN</td>\n",
       "      <td>NaN</td>\n",
       "      <td>NaN</td>\n",
       "      <td>NaN</td>\n",
       "      <td>NaN</td>\n",
       "      <td>Finance Intern at Local Firm</td>\n",
       "      <td>NaN</td>\n",
       "      <td>2002-10-06</td>\n",
       "      <td>MBC</td>\n",
       "    </tr>\n",
       "  </tbody>\n",
       "</table>\n",
       "</div>"
      ],
      "text/plain": [
       "           Name  10th marks 12th course  12th marks grad course  \\\n",
       "0       YOVITHA        62.9         NaN         NaN         NaN   \n",
       "1      SUKUNNAN        93.4        Arts        85.0        BCom   \n",
       "2      SHOORSEN        65.6        Arts        69.4       BTech   \n",
       "3   AADALALAGAN        76.2    Commerce        69.4         NaN   \n",
       "4  SKANDAPRASAD        86.2     Science        89.7         NaN   \n",
       "\n",
       "              grad stream  grad marks                skills  \\\n",
       "0                     NaN         NaN                   NaN   \n",
       "1  Electrical Engineering        71.8  Excel, Communication   \n",
       "2  Mechanical Engineering        65.2                   NaN   \n",
       "3                     NaN         NaN                   NaN   \n",
       "4                     NaN         NaN                   NaN   \n",
       "\n",
       "           languages known             internships taken  \\\n",
       "0  Punjabi, English, Hindi                           NaN   \n",
       "1       Urdu, Hindi, Tamil                           NaN   \n",
       "2                      NaN                           NaN   \n",
       "3          Tamil, Gujarati                           NaN   \n",
       "4                      NaN  Finance Intern at Local Firm   \n",
       "\n",
       "                        additional certifications         DOB Category  \n",
       "0  Certificate in IFRS, Oracle Java Certification  2001-05-21      MBC  \n",
       "1                                             NaN  2004-08-18       BC  \n",
       "2                                             NaN  2003-06-30       BC  \n",
       "3                                             NaN  2001-07-25       BC  \n",
       "4                                             NaN  2002-10-06      MBC  "
      ]
     },
     "execution_count": 2,
     "metadata": {},
     "output_type": "execute_result"
    }
   ],
   "source": [
    "df = pd.read_csv(\"G:\\My Drive\\projects\\data_science\\working\\dataset\\student_profiles_updated.csv\")\n",
    "df.head()"
   ]
  },
  {
   "cell_type": "code",
   "execution_count": 3,
   "id": "1f8db908",
   "metadata": {},
   "outputs": [],
   "source": [
    "txt = r\"\"\"Binocs is hiring for the role of ML Intern!\n",
    "\n",
    "Responsibilities of the Intern:\n",
    "\n",
    "Spearhead the development and integration of AI technologies within our digital platform, focusing on LLMs like ChatGPT.\n",
    "Work closely with the product and development teams to embed AI capabilities that enhance user experiences and business outcomes.\n",
    "Innovate and implement prompt engineering techniques to refine and optimize interactions with LLMs.\n",
    "Collaborate in High-Level Designs (HLDs) and Low-Level Designs (LLDs), ensuring AI solutions are scalable and robust.\n",
    "Mentor and lead discussions on best practices in AI development, staying ahead of the curve in AI trends and technologies.\n",
    "Ensure the reliability, security, and performance of AI implementations.\n",
    "Dive into new AI domains, showing a willingness to explore and master emerging AI technologies.\n",
    "Requirements:\n",
    "\n",
    "Pursuing BE/BS/BTech/ME/MS/MTech in Computer Science, Engineering, or a related field from top-tier universities.\n",
    "Relevant Projects/Internship in AI development, with a specific focus on prompt engineering with LLMs like ChatGPT.\n",
    "Demonstrated proficiency in programming languages relevant to AI development and a passion for coding.\n",
    "Solid understanding of AI principles, machine learning models, and the ability to apply them in creating impactful solutions.\n",
    "Knowledge of deep learning for computer vision and (or) NLP\n",
    "Experience with cloud computing platforms (e.g., AWS, Azure, Google Cloud) and understanding of deploying AI solutions at scale.\n",
    "Knowledge of DevOps practices for AI, including continuous integration and deployment (CI/CD) for AI models.\"\"\""
   ]
  },
  {
   "cell_type": "code",
   "execution_count": 4,
   "id": "dc9c2380",
   "metadata": {},
   "outputs": [
    {
     "name": "stdout",
     "output_type": "stream",
     "text": [
      "Binocs is hiring for the role of ML Intern!\n",
      "\n",
      "Responsibilities of the Intern:\n",
      "\n",
      "Spearhead the development and integration of AI technologies within our digital platform, focusing on LLMs like ChatGPT.\n",
      "Work closely with the product and development teams to embed AI capabilities that enhance user experiences and business outcomes.\n",
      "Innovate and implement prompt engineering techniques to refine and optimize interactions with LLMs.\n",
      "Collaborate in High-Level Designs (HLDs) and Low-Level Designs (LLDs), ensuring AI solutions are scalable and robust.\n",
      "Mentor and lead discussions on best practices in AI development, staying ahead of the curve in AI trends and technologies.\n",
      "Ensure the reliability, security, and performance of AI implementations.\n",
      "Dive into new AI domains, showing a willingness to explore and master emerging AI technologies.\n",
      "Requirements:\n",
      "\n",
      "Pursuing BE/BS/BTech/ME/MS/MTech in Computer Science, Engineering, or a related field from top-tier universities.\n",
      "Relevant Projects/Internship in AI development, with a specific focus on prompt engineering with LLMs like ChatGPT.\n",
      "Demonstrated proficiency in programming languages relevant to AI development and a passion for coding.\n",
      "Solid understanding of AI principles, machine learning models, and the ability to apply them in creating impactful solutions.\n",
      "Knowledge of deep learning for computer vision and (or) NLP\n",
      "Experience with cloud computing platforms (e.g., AWS, Azure, Google Cloud) and understanding of deploying AI solutions at scale.\n",
      "Knowledge of DevOps practices for AI, including continuous integration and deployment (CI/CD) for AI models.\n"
     ]
    }
   ],
   "source": [
    "print(txt)"
   ]
  },
  {
   "cell_type": "code",
   "execution_count": 5,
   "id": "baf6fe04",
   "metadata": {},
   "outputs": [],
   "source": [
    "txt = r\"\"\"Robu. in is hiring for the role of Embedded Intern!\n",
    "\n",
    "Responsibilities of the Intern:\n",
    "\n",
    "Create, edit, and update technical video tutorials for our YouTube channel.\n",
    "Handle customer queries related to electronic products and troubleshooting via Questions &Answers platforms.\n",
    "Collaborate with cross-functional teams for timely and accurate product documentation and updates.\n",
    "Assist in product testing and generate basic reports or feedback.\n",
    "Stay up-to-date with new and trending electronics technologies.\n",
    "Requirements:\n",
    "\n",
    "Basic knowledge of Electronics, Arduino, Raspberry Pi, and common interface modules.\n",
    "Proficiency in Microsoft Excel and other MS Office tools.\n",
    "Excellent written communication and technical writing skills.\n",
    "Basic video editing skills (preferred).\n",
    "Strong willingness to learn and work with various electronics products and platforms.\n",
    "B.E (E&TC or Electronics), who is interested in Robotics.\"\"\""
   ]
  },
  {
   "cell_type": "code",
   "execution_count": 6,
   "id": "abb21307",
   "metadata": {},
   "outputs": [
    {
     "name": "stderr",
     "output_type": "stream",
     "text": [
      "Device set to use cpu\n"
     ]
    },
    {
     "name": "stdout",
     "output_type": "stream",
     "text": [
      "Answer: Basic video editing skills\n",
      "Answer: Basic video editing skills\n"
     ]
    }
   ],
   "source": [
    "from transformers import pipeline\n",
    "\n",
    "question_answerer = pipeline(\"question-answering\", model=\"deepset/roberta-base-squad2\")\n",
    "\n",
    "result = question_answerer(\n",
    "    question=\"What degree is required for this internship?\",\n",
    "    context=txt\n",
    ")\n",
    "second = question_answerer(\n",
    "    question=\"What course is required for this internship?\",\n",
    "    context=txt\n",
    ")\n",
    "print(f\"Answer: {result['answer']}\")\n",
    "\n",
    "print(f\"Answer: {second['answer']}\")"
   ]
  },
  {
   "cell_type": "code",
   "execution_count": 7,
   "id": "96292beb",
   "metadata": {},
   "outputs": [
    {
     "name": "stdout",
     "output_type": "stream",
     "text": [
      "Answer: Basic knowledge of Electronics, Arduino, Raspberry Pi, and common interface modules\n",
      "Answer: Basic knowledge of Electronics, Arduino, Raspberry Pi, and common interface modules\n"
     ]
    }
   ],
   "source": [
    "project_knowledge = question_answerer(\n",
    "    question=\"What should the projects have?\",\n",
    "    context=txt\n",
    ")\n",
    "project_ = question_answerer(\n",
    "    question=\"What should the projects have in detail?\",\n",
    "    context=txt\n",
    ")\n",
    "print(f\"Answer: {project_knowledge['answer']}\")\n",
    "print(f\"Answer: {project_['answer']}\")"
   ]
  },
  {
   "cell_type": "code",
   "execution_count": 8,
   "id": "4249a380",
   "metadata": {},
   "outputs": [
    {
     "name": "stdout",
     "output_type": "stream",
     "text": [
      "Answer: Strong willingness to learn and work with various electronics products and platforms\n"
     ]
    }
   ],
   "source": [
    "df = question_answerer(\n",
    "    question=\"What should the candidate's projects focus on?\",\n",
    "    context=txt\n",
    ")\n",
    "print(f\"Answer: {df['answer']}\")"
   ]
  },
  {
   "cell_type": "code",
   "execution_count": 9,
   "id": "1fbf9e22",
   "metadata": {},
   "outputs": [
    {
     "name": "stdout",
     "output_type": "stream",
     "text": [
      "Answer: Basic video editing skills\n"
     ]
    }
   ],
   "source": [
    "df = question_answerer(\n",
    "    question=\"What are the skills the candidate should have\",\n",
    "    context=txt\n",
    ")\n",
    "print(f\"Answer: {df['answer']}\")"
   ]
  },
  {
   "cell_type": "code",
   "execution_count": 10,
   "id": "b5ac3239",
   "metadata": {},
   "outputs": [
    {
     "name": "stdout",
     "output_type": "stream",
     "text": [
      "Requirement already satisfied: sentencepiece in c:\\users\\gayat\\anaconda3\\lib\\site-packages (0.2.1)\n",
      "Note: you may need to restart the kernel to use updated packages.\n"
     ]
    }
   ],
   "source": [
    "%pip install sentencepiece"
   ]
  },
  {
   "cell_type": "code",
   "execution_count": 11,
   "id": "54b863c4",
   "metadata": {},
   "outputs": [
    {
     "name": "stderr",
     "output_type": "stream",
     "text": [
      "You are using the default legacy behaviour of the <class 'transformers.models.t5.tokenization_t5.T5Tokenizer'>. This is expected, and simply means that the `legacy` (previous) behavior will be used so nothing changes for you. If you want to use the new behaviour, set `legacy=False`. This should only be set if you understand what it means, and thoroughly read the reason why this was added as explained in https://github.com/huggingface/transformers/pull/24565\n"
     ]
    },
    {
     "name": "stdout",
     "output_type": "stream",
     "text": [
      "B.E.\n"
     ]
    }
   ],
   "source": [
    "from transformers import T5Tokenizer, T5ForConditionalGeneration\n",
    "\n",
    "tokenizer = T5Tokenizer.from_pretrained(\"google/flan-t5-base\")\n",
    "model = T5ForConditionalGeneration.from_pretrained(\"google/flan-t5-base\")\n",
    "\n",
    "question = \"Based on the context, list all the degrees mentioned.\"\n",
    "input_text = f\"Answer the question based on the context. (eg of the answer: BA/BTech/MTech/MS/ME) \\n\\nContext: {txt}\\n\\nQuestion: {question}\\nAnswer:\"\n",
    "\n",
    "input_ids = tokenizer(input_text, return_tensors=\"pt\").input_ids\n",
    "\n",
    "outputs = model.generate(input_ids, max_length=128)\n",
    "print(tokenizer.decode(outputs[0], skip_special_tokens=True))\n"
   ]
  },
  {
   "cell_type": "code",
   "execution_count": 12,
   "id": "e3db5ca0",
   "metadata": {},
   "outputs": [
    {
     "name": "stdout",
     "output_type": "stream",
     "text": [
      "B.E (E&TC or Electronics), who is interested in Robotics\n"
     ]
    }
   ],
   "source": [
    "question = \"list all the academic degrees or fields of study mentioned in detail.\"\n",
    "input_text = f\"\"\"\n",
    "Answer the question based on the context. \n",
    "example for the answer: (BTech in Computer engineering)\n",
    "Context: {txt}\n",
    "\n",
    "Question: {question}\n",
    "Answer:\n",
    "\"\"\"\n",
    "\n",
    "input_ids = tokenizer(input_text, return_tensors=\"pt\").input_ids\n",
    "\n",
    "outputs = model.generate(input_ids, max_length=128)\n",
    "print(tokenizer.decode(outputs[0], skip_special_tokens=True))"
   ]
  },
  {
   "cell_type": "code",
   "execution_count": 13,
   "id": "77dfff2e",
   "metadata": {},
   "outputs": [],
   "source": [
    "txt = r\"\"\"PayPal is hiring for the role of Software Engineer Intern!\n",
    "\n",
    "Responsibilities of the Intern:\n",
    "\n",
    "Code high-volume and scalable software (front-end and/or back-end focused). This may include creating web applications using React/Node, creating back-end services using Java, SQL, ReST and/or building and developing new user-facing experiences  \n",
    "Partner closely with cross functional teams in design, product and other business units \n",
    "Requirements:\n",
    "\n",
    "Strong applied experience. You’ve built, broken, and rebuilt software applications. We’re looking for creative thinkers who also know how to create real-world products. \n",
    "Working knowledge of web technologies (such as HTTP, HTML/DOM, JavaScript, CSS, AJAX)  \n",
    "Familiarity with any or multiple of the following: Node.js applications, Java, C++. Python \n",
    "Understanding of concepts like Web Services, SOA, REST APIs  \n",
    "A constant desire to grow, learn, and explore new things .\n",
    "This is a university intern position. You must be graduating in 2027 with a Bachelor’s degree in Computer Science or related field from an accredited college or university.\"\"\""
   ]
  },
  {
   "cell_type": "code",
   "execution_count": 14,
   "id": "a227cb27",
   "metadata": {},
   "outputs": [],
   "source": [
    "txt = r\"\"\"KEG HR Services is seeking a highly motivated HR Intern to join our dynamic team. This internship offers a valuable opportunity to gain hands-on experience in various aspects of Human Resources, including HR Operations, HR Business Advisory, and Recruitment & Talent Acquisition. As an intern, you will contribute to real-world projects, develop essential HR skills, and gain insights into the HR field.\n",
    "\n",
    "Key Responsibilities:\n",
    "\n",
    "Assist in day-to-day HR operations, including maintaining employee records and managing HR databases.\n",
    "Support the recruitment process by screening resumes, scheduling interviews, and conducting initial candidate assessments.\n",
    "Assist in creating and implementing HR policies and procedures.\n",
    "Contribute to employee engagement initiatives and programs.\n",
    "Assist in HR Business Advisory tasks, such as providing support to employees and management on HR-related matters.\n",
    "Skills and Qualifications:\n",
    "\n",
    "Proficiency in Microsoft Office Suite (Excel, Word, PowerPoint).\n",
    "Strong understanding of HR principles and practices.\n",
    "Ability to learn quickly and adapt to a fast-paced environment.\n",
    "Excellent organizational and time management skills.\n",
    "Excellent communication skills, both written and verbal.\n",
    "Strong interpersonal skills and the ability to work effectively in a team.\n",
    "Ability to maintain confidentiality and handle sensitive information with discretion.\n",
    "Experience and Expectations:\n",
    "\n",
    "Open to freshers from all educational backgrounds.\"\"\""
   ]
  },
  {
   "cell_type": "code",
   "execution_count": 15,
   "id": "3a3a18a6",
   "metadata": {},
   "outputs": [
    {
     "name": "stdout",
     "output_type": "stream",
     "text": [
      "Assist in day-to-day HR operations, including maintaining employee records and managing HR databases. Assist in creating and implementing HR policies and procedures. Assist in HR Business Advisory tasks, such as providing support to employees and management on HR-related matters.\n"
     ]
    }
   ],
   "source": [
    "question = \"what are the responsibilities of the intern in detail?\"\n",
    "input_text = f\"\"\"\n",
    "Answer the question based on the context. \n",
    "example for the answer: (BTech in Computer engineering)\n",
    "Context: {txt}\n",
    "\n",
    "Question: {question}\n",
    "Answer:\n",
    "\"\"\"\n",
    "\n",
    "input_ids = tokenizer(input_text, return_tensors=\"pt\").input_ids\n",
    "\n",
    "outputs = model.generate(input_ids, max_length=128)\n",
    "print(tokenizer.decode(outputs[0], skip_special_tokens=True))"
   ]
  },
  {
   "cell_type": "code",
   "execution_count": 16,
   "id": "8f5c6c0f",
   "metadata": {},
   "outputs": [
    {
     "name": "stdout",
     "output_type": "stream",
     "text": [
      "1. HR 3. Intern 4. Certifications 5. Education\n"
     ]
    }
   ],
   "source": [
    "prompt = f\"\"\"\n",
    "Extract the following from the internship description:\n",
    "1. Required skills\n",
    "2. Languages known\n",
    "3. Internships required\n",
    "4. Certifications\n",
    "5. Education level\n",
    "\n",
    "Return the answer as a JSON object.\n",
    "\n",
    "Context: {txt}\n",
    "Answer:\n",
    "\"\"\"\n",
    "\n",
    "input_ids = tokenizer(prompt, return_tensors=\"pt\").input_ids\n",
    "outputs = model.generate(input_ids, max_length=256)\n",
    "print(tokenizer.decode(outputs[0], skip_special_tokens=True))"
   ]
  },
  {
   "cell_type": "code",
   "execution_count": 17,
   "id": "c4bb22df",
   "metadata": {},
   "outputs": [
    {
     "name": "stdout",
     "output_type": "stream",
     "text": [
      "expected_internships\n"
     ]
    }
   ],
   "source": [
    "prompt = f\"\"\"\n",
    "You are an information extraction system. \n",
    "Extract the following from the internship description. \n",
    "Only use exact phrases from the context. If something is not mentioned, return an empty list.\n",
    "\n",
    "Return the result strictly as a valid JSON object with the following keys:\n",
    "\"expected_skills\", \"expected_languages\", \"expected_internships\", \"expected_certifications\", \"expected_education_level\".\n",
    "\n",
    "Context:\n",
    "{txt}\n",
    "\n",
    "Answer:\n",
    "\n",
    "  \"expected_skills\": [],\n",
    "  \"expected_languages\": [],\n",
    "  \"expected_internships\": [],\n",
    "  \"expected_certifications\": [],\n",
    "  \"expected_education_level\": []\n",
    "\n",
    "\"\"\"\n",
    "\n",
    "input_ids = tokenizer(prompt, return_tensors=\"pt\").input_ids\n",
    "outputs = model.generate(input_ids, max_length=256)\n",
    "print(tokenizer.decode(outputs[0], skip_special_tokens=True))"
   ]
  },
  {
   "cell_type": "code",
   "execution_count": null,
   "id": "1a071f98",
   "metadata": {},
   "outputs": [],
   "source": []
  }
 ],
 "metadata": {
  "kernelspec": {
   "display_name": "base",
   "language": "python",
   "name": "python3"
  },
  "language_info": {
   "codemirror_mode": {
    "name": "ipython",
    "version": 3
   },
   "file_extension": ".py",
   "mimetype": "text/x-python",
   "name": "python",
   "nbconvert_exporter": "python",
   "pygments_lexer": "ipython3",
   "version": "3.12.3"
  }
 },
 "nbformat": 4,
 "nbformat_minor": 5
}
