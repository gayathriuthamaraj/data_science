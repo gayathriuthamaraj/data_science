{
 "cells": [
  {
   "cell_type": "code",
   "execution_count": 52,
   "id": "47ea426b",
   "metadata": {},
   "outputs": [],
   "source": [
    "import numpy as np\n",
    "import matplotlib.pyplot as plt\n",
    "import plotly.express as px\n",
    "import pandas  as pd"
   ]
  },
  {
   "cell_type": "markdown",
   "id": "10e97a50",
   "metadata": {},
   "source": [
    "**Binomial Distribution:**\n",
    "\n",
    "1) A basketball player has a 70% free throw percentage. If they take 15 free throws in a game, what is the probability that they make exactly 10 of them?"
   ]
  },
  {
   "cell_type": "code",
   "execution_count": 53,
   "id": "75c21170",
   "metadata": {},
   "outputs": [
    {
     "data": {
      "text/plain": [
       "0.20345"
      ]
     },
     "execution_count": 53,
     "metadata": {},
     "output_type": "execute_result"
    }
   ],
   "source": [
    "sum(np.random.binomial(15, 0.7, 20000) == 10)/20000"
   ]
  },
  {
   "cell_type": "markdown",
   "id": "8d7da9ff",
   "metadata": {},
   "source": [
    "2. A factory produces parts, and it is known that 5% of the parts are defective. If a random sample of 25 parts is taken, what is the probability that at least 2 of them are defective?"
   ]
  },
  {
   "cell_type": "code",
   "execution_count": 55,
   "id": "d6ff056a",
   "metadata": {},
   "outputs": [
    {
     "data": {
      "text/plain": [
       "0.36315"
      ]
     },
     "execution_count": 55,
     "metadata": {},
     "output_type": "execute_result"
    }
   ],
   "source": [
    "sum(np.random.binomial(25, 0.05, 20000) >= 2)/20000"
   ]
  },
  {
   "cell_type": "markdown",
   "id": "a6d89b2f",
   "metadata": {},
   "source": [
    "**Poisson Distribution**\n",
    "\n",
    "1. A call center receives an average of 15 calls per hour. What is the probability that they receive exactly 12 calls in a particular hour?"
   ]
  },
  {
   "cell_type": "code",
   "execution_count": 56,
   "id": "b2c775c1",
   "metadata": {},
   "outputs": [
    {
     "data": {
      "text/plain": [
       "0.0849"
      ]
     },
     "execution_count": 56,
     "metadata": {},
     "output_type": "execute_result"
    }
   ],
   "source": [
    "sum(np.random.poisson(15, 20000) == 12)/20000"
   ]
  },
  {
   "cell_type": "markdown",
   "id": "01e92513",
   "metadata": {},
   "source": [
    "2. A website experiences an average of 4 crashes per week. What is the probability that the website will have 5 or more crashes next week?"
   ]
  },
  {
   "cell_type": "code",
   "execution_count": 57,
   "id": "e9b28f12",
   "metadata": {},
   "outputs": [
    {
     "data": {
      "text/plain": [
       "0.37165"
      ]
     },
     "execution_count": 57,
     "metadata": {},
     "output_type": "execute_result"
    }
   ],
   "source": [
    "sum(np.random.poisson(4, 20000) >= 5)/20000"
   ]
  },
  {
   "cell_type": "markdown",
   "id": "f62de3f1",
   "metadata": {},
   "source": [
    "**Normal Distribution**\n",
    "\n",
    "1. The average height of adult men in a certain city is 175 cm with a standard deviation of 8 cm. What is the probability that a randomly selected man from this city is taller than 190 cm?"
   ]
  },
  {
   "cell_type": "code",
   "execution_count": 59,
   "id": "e169ef03",
   "metadata": {},
   "outputs": [
    {
     "data": {
      "text/plain": [
       "0.0326"
      ]
     },
     "execution_count": 59,
     "metadata": {},
     "output_type": "execute_result"
    }
   ],
   "source": [
    "mu, sigma = 175, 8\n",
    "sum(np.random.normal(mu, sigma, 10000) > 190)/10000"
   ]
  },
  {
   "cell_type": "markdown",
   "id": "39d017bd",
   "metadata": {},
   "source": [
    "2. The test scores for a standardized exam are normally distributed with a mean of 500 and a standard deviation of 100. What is the probability that a randomly selected student scores between 450 and 600?"
   ]
  },
  {
   "cell_type": "code",
   "execution_count": 63,
   "id": "e11e6142",
   "metadata": {},
   "outputs": [
    {
     "data": {
      "text/plain": [
       "0.14749999999999996"
      ]
     },
     "execution_count": 63,
     "metadata": {},
     "output_type": "execute_result"
    }
   ],
   "source": [
    "mu, sigma = 500, 100\n",
    "(sum(np.random.normal(mu, sigma, 10000) < 600)/10000) - (sum(np.random.normal(mu, sigma, 10000) > 450)/10000)"
   ]
  },
  {
   "cell_type": "markdown",
   "id": "96b4351a",
   "metadata": {},
   "source": [
    "**Exponential Distribution**\n",
    "\n",
    "1. The average time a customer spends in a bank is 10 minutes. What is the probability that a customer will spend less than 5 minutes in the bank?"
   ]
  },
  {
   "cell_type": "code",
   "execution_count": 70,
   "id": "18047069",
   "metadata": {},
   "outputs": [
    {
     "data": {
      "text/plain": [
       "0.3901"
      ]
     },
     "execution_count": 70,
     "metadata": {},
     "output_type": "execute_result"
    }
   ],
   "source": [
    "sum(np.random.exponential(scale = 10, size = 10000) < 5)/10000"
   ]
  },
  {
   "cell_type": "markdown",
   "id": "4270f9c8",
   "metadata": {},
   "source": [
    "2. A machine breaks down on average once every 20 days. What is the probability that the machine will function without breaking down for the next 30 days?"
   ]
  },
  {
   "cell_type": "code",
   "execution_count": 71,
   "id": "ecdef7aa",
   "metadata": {},
   "outputs": [
    {
     "data": {
      "text/plain": [
       "0.2243"
      ]
     },
     "execution_count": 71,
     "metadata": {},
     "output_type": "execute_result"
    }
   ],
   "source": [
    "sum(np.random.exponential(scale = 20, size = 10000) > 30)/10000"
   ]
  },
  {
   "cell_type": "markdown",
   "id": "1e0d8153",
   "metadata": {},
   "source": [
    "**Probability problems that don't explicitly name the distribution**\n",
    "\n",
    "**Problem Set 1**"
   ]
  },
  {
   "cell_type": "markdown",
   "id": "f2418dc0",
   "metadata": {},
   "source": [
    "1. A fair six-sided die is rolled 10 times. What is the probability of rolling a 3 exactly twice?"
   ]
  },
  {
   "cell_type": "code",
   "execution_count": 73,
   "id": "b027909b",
   "metadata": {},
   "outputs": [
    {
     "data": {
      "text/plain": [
       "0.2904"
      ]
     },
     "execution_count": 73,
     "metadata": {},
     "output_type": "execute_result"
    }
   ],
   "source": [
    "sum(np.random.binomial(10,(1/6),20000) == 2)/20000"
   ]
  },
  {
   "cell_type": "markdown",
   "id": "31816f5d",
   "metadata": {},
   "source": [
    "2. On average, 3 cars arrive at a drive-thru every 10 minutes. What is the probability that exactly 5 cars will arrive in a particular 10-minute period?"
   ]
  },
  {
   "cell_type": "code",
   "execution_count": 77,
   "id": "a22d31fa",
   "metadata": {},
   "outputs": [
    {
     "data": {
      "text/plain": [
       "0.102"
      ]
     },
     "execution_count": 77,
     "metadata": {},
     "output_type": "execute_result"
    }
   ],
   "source": [
    "sum(np.random.poisson(3, 1000) == 5)/1000"
   ]
  },
  {
   "cell_type": "markdown",
   "id": "617c0440",
   "metadata": {},
   "source": [
    "3. The lifespan of a certain brand of light bulb is, on average, 1,200 hours. What is the probability that a randomly chosen light bulb will last for more than 1,500 hours?"
   ]
  },
  {
   "cell_type": "code",
   "execution_count": 79,
   "id": "3dca48bf",
   "metadata": {},
   "outputs": [
    {
     "data": {
      "text/plain": [
       "0.291"
      ]
     },
     "execution_count": 79,
     "metadata": {},
     "output_type": "execute_result"
    }
   ],
   "source": [
    "sum(np.random.exponential(scale = 1200, size = 1000) > 1500)/1000"
   ]
  },
  {
   "cell_type": "markdown",
   "id": "fd96ec61",
   "metadata": {},
   "source": [
    "4. The weights of a specific type of apple are found to have a mean of 150 grams and a standard deviation of 10 grams. What is the probability that a randomly selected apple weighs between 145 and 165 grams?"
   ]
  },
  {
   "cell_type": "code",
   "execution_count": 81,
   "id": "4d8df2b6",
   "metadata": {},
   "outputs": [
    {
     "data": {
      "text/plain": [
       "0.88"
      ]
     },
     "execution_count": 81,
     "metadata": {},
     "output_type": "execute_result"
    }
   ],
   "source": [
    "mu, sigma = 150, 10\n",
    "(sum(np.random.normal(mu, sigma, 1000) < 165)/1000) -(sum(np.random.uniform(mu, sigma, 1000) > 145)/1000)"
   ]
  },
  {
   "cell_type": "markdown",
   "id": "b185d985",
   "metadata": {},
   "source": [
    "**Problem Set 2**"
   ]
  },
  {
   "cell_type": "markdown",
   "id": "7d080880",
   "metadata": {},
   "source": [
    "1. A student takes a true/false exam with 20 questions. If they guess the answer to every question, what is the probability of passing the exam (getting at least 10 correct)?"
   ]
  },
  {
   "cell_type": "code",
   "execution_count": 82,
   "id": "0833a048",
   "metadata": {},
   "outputs": [
    {
     "data": {
      "text/plain": [
       "0.5838"
      ]
     },
     "execution_count": 82,
     "metadata": {},
     "output_type": "execute_result"
    }
   ],
   "source": [
    "sum(np.random.binomial(20, 0.5, 20000) > 9)/20000"
   ]
  },
  {
   "cell_type": "markdown",
   "id": "fa628911",
   "metadata": {},
   "source": [
    "2. A grocery store's checkout counter serves an average of 20 customers per hour. What is the probability that in the next 15 minutes, 8 customers will be served?"
   ]
  },
  {
   "cell_type": "code",
   "execution_count": 84,
   "id": "16132700",
   "metadata": {},
   "outputs": [
    {
     "data": {
      "text/plain": [
       "0.0659"
      ]
     },
     "execution_count": 84,
     "metadata": {},
     "output_type": "execute_result"
    }
   ],
   "source": [
    "sum(np.random.poisson(5, 10000) == 8)/10000"
   ]
  },
  {
   "cell_type": "markdown",
   "id": "956cf249",
   "metadata": {},
   "source": [
    "3. The time it takes to serve a customer at a cafe follows a pattern where the average service time is 2 minutes. What is the probability that it will take more than 5 minutes to serve the next customer?"
   ]
  },
  {
   "cell_type": "code",
   "execution_count": 88,
   "id": "71aa6d66",
   "metadata": {},
   "outputs": [
    {
     "data": {
      "text/plain": [
       "0.0837"
      ]
     },
     "execution_count": 88,
     "metadata": {},
     "output_type": "execute_result"
    }
   ],
   "source": [
    "sum(np.random.exponential(scale = 2, size = 10000) > 5)/10000"
   ]
  },
  {
   "cell_type": "markdown",
   "id": "87e9b34b",
   "metadata": {},
   "source": [
    "4. The average commuting time for people in a city is 45 minutes with a standard deviation of 10 minutes. A person needs to be at work in 30 minutes. What is the probability that their commute will be under 30 minutes?"
   ]
  },
  {
   "cell_type": "code",
   "execution_count": 89,
   "id": "414a4317",
   "metadata": {},
   "outputs": [
    {
     "data": {
      "text/plain": [
       "0.0633"
      ]
     },
     "execution_count": 89,
     "metadata": {},
     "output_type": "execute_result"
    }
   ],
   "source": [
    "mu, sigma = 45, 10\n",
    "sum(np.random.normal(mu, sigma, 10000) < 30)/10000"
   ]
  }
 ],
 "metadata": {
  "kernelspec": {
   "display_name": "base",
   "language": "python",
   "name": "python3"
  },
  "language_info": {
   "codemirror_mode": {
    "name": "ipython",
    "version": 3
   },
   "file_extension": ".py",
   "mimetype": "text/x-python",
   "name": "python",
   "nbconvert_exporter": "python",
   "pygments_lexer": "ipython3",
   "version": "3.12.3"
  }
 },
 "nbformat": 4,
 "nbformat_minor": 5
}
