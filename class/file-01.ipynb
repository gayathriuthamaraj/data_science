{
 "cells": [
  {
   "cell_type": "code",
   "execution_count": 3,
   "id": "92f5c121",
   "metadata": {},
   "outputs": [],
   "source": [
    "import numpy as np\n",
    "import pandas as pd\n",
    "import matplotlib.pyplot as plt"
   ]
  },
  {
   "cell_type": "code",
   "execution_count": 4,
   "id": "28da8980",
   "metadata": {},
   "outputs": [],
   "source": [
    "from efficient_apriori import apriori"
   ]
  },
  {
   "cell_type": "code",
   "execution_count": 5,
   "id": "3065cb3e",
   "metadata": {},
   "outputs": [],
   "source": [
    "transactions = [(\"a\", \"b\", \"c\"), (\"a\",\"d\",\"e\"), (\"l\",\"p\",\"a\"), (\"a\", \"p\", \"t\"), (\"a\", \"c\",\"e\")]"
   ]
  },
  {
   "cell_type": "code",
   "execution_count": 6,
   "id": "e05a1a79",
   "metadata": {},
   "outputs": [],
   "source": [
    "itemsets, rules = apriori(transactions, min_support=0.5,  min_confidence=1)"
   ]
  },
  {
   "cell_type": "code",
   "execution_count": 7,
   "id": "d89c2ac1",
   "metadata": {},
   "outputs": [
    {
     "name": "stdout",
     "output_type": "stream",
     "text": [
      "[]\n"
     ]
    }
   ],
   "source": [
    "print(rules)"
   ]
  }
 ],
 "metadata": {
  "kernelspec": {
   "display_name": "base",
   "language": "python",
   "name": "python3"
  },
  "language_info": {
   "codemirror_mode": {
    "name": "ipython",
    "version": 3
   },
   "file_extension": ".py",
   "mimetype": "text/x-python",
   "name": "python",
   "nbconvert_exporter": "python",
   "pygments_lexer": "ipython3",
   "version": "3.12.3"
  }
 },
 "nbformat": 4,
 "nbformat_minor": 5
}
